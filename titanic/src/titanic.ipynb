{
 "cells": [
  {
   "cell_type": "markdown",
   "metadata": {},
   "source": [
    "---\n",
    "\n",
    "03/2019 <p style=\"text-align: right\">Anton Panchenko</p>\n",
    "\n",
    "\n",
    "![Titanic](https://cdn-static.denofgeek.com/sites/denofgeek/files/styles/main_wide/public/2015/10/raise-main.jpg?itok=QBxamb0z)"
   ]
  },
  {
   "cell_type": "code",
   "execution_count": 44,
   "metadata": {},
   "outputs": [
    {
     "name": "stdout",
     "output_type": "stream",
     "text": [
      "python: sys.version_info(major=3, minor=7, micro=2, releaselevel='final', serial=0)\n",
      "numpy 1.16.2\n",
      "pandas 0.24.1\n",
      "seaborn 0.9.0\n",
      "xgboost 0.82\n"
     ]
    },
    {
     "data": {
      "text/plain": [
       "['gender_submission.csv', 'test.csv', 'train.csv']"
      ]
     },
     "execution_count": 44,
     "metadata": {},
     "output_type": "execute_result"
    }
   ],
   "source": [
    "from sys import version_info\n",
    "print(\"python:\", version_info)\n",
    "\n",
    "import os\n",
    "import re\n",
    "import numpy as np\n",
    "print(\"numpy\", np.__version__)\n",
    "\n",
    "import pandas as pd\n",
    "print(\"pandas\", pd.__version__)\n",
    "\n",
    "import seaborn as sns\n",
    "print(\"seaborn\", sns.__version__)\n",
    "\n",
    "from sklearn.preprocessing import LabelEncoder\n",
    "from sklearn import model_selection\n",
    "from sklearn import linear_model\n",
    "from sklearn import metrics\n",
    "\n",
    "import xgboost as xgb\n",
    "print(\"xgboost\", xgb.__version__)\n",
    "\n",
    "os.listdir(\"../input\")"
   ]
  },
  {
   "cell_type": "markdown",
   "metadata": {},
   "source": [
    "## Introduction\n",
    "\n",
    "Load and merge datasets, meet data"
   ]
  },
  {
   "cell_type": "code",
   "execution_count": 25,
   "metadata": {
    "scrolled": true
   },
   "outputs": [
    {
     "data": {
      "text/html": [
       "<div>\n",
       "<style scoped>\n",
       "    .dataframe tbody tr th:only-of-type {\n",
       "        vertical-align: middle;\n",
       "    }\n",
       "\n",
       "    .dataframe tbody tr th {\n",
       "        vertical-align: top;\n",
       "    }\n",
       "\n",
       "    .dataframe thead th {\n",
       "        text-align: right;\n",
       "    }\n",
       "</style>\n",
       "<table border=\"1\" class=\"dataframe\">\n",
       "  <thead>\n",
       "    <tr style=\"text-align: right;\">\n",
       "      <th></th>\n",
       "      <th>PassengerId</th>\n",
       "      <th>Survived</th>\n",
       "      <th>Pclass</th>\n",
       "      <th>Name</th>\n",
       "      <th>Sex</th>\n",
       "      <th>Age</th>\n",
       "      <th>SibSp</th>\n",
       "      <th>Parch</th>\n",
       "      <th>Ticket</th>\n",
       "      <th>Fare</th>\n",
       "      <th>Cabin</th>\n",
       "      <th>Embarked</th>\n",
       "    </tr>\n",
       "  </thead>\n",
       "  <tbody>\n",
       "    <tr>\n",
       "      <th>885</th>\n",
       "      <td>886</td>\n",
       "      <td>0.0</td>\n",
       "      <td>3</td>\n",
       "      <td>Rice, Mrs. William (Margaret Norton)</td>\n",
       "      <td>female</td>\n",
       "      <td>39.0</td>\n",
       "      <td>0</td>\n",
       "      <td>5</td>\n",
       "      <td>382652</td>\n",
       "      <td>29.1250</td>\n",
       "      <td>NaN</td>\n",
       "      <td>Q</td>\n",
       "    </tr>\n",
       "    <tr>\n",
       "      <th>223</th>\n",
       "      <td>224</td>\n",
       "      <td>0.0</td>\n",
       "      <td>3</td>\n",
       "      <td>Nenkoff, Mr. Christo</td>\n",
       "      <td>male</td>\n",
       "      <td>NaN</td>\n",
       "      <td>0</td>\n",
       "      <td>0</td>\n",
       "      <td>349234</td>\n",
       "      <td>7.8958</td>\n",
       "      <td>NaN</td>\n",
       "      <td>S</td>\n",
       "    </tr>\n",
       "    <tr>\n",
       "      <th>75</th>\n",
       "      <td>967</td>\n",
       "      <td>NaN</td>\n",
       "      <td>1</td>\n",
       "      <td>Keeping, Mr. Edwin</td>\n",
       "      <td>male</td>\n",
       "      <td>32.5</td>\n",
       "      <td>0</td>\n",
       "      <td>0</td>\n",
       "      <td>113503</td>\n",
       "      <td>211.5000</td>\n",
       "      <td>C132</td>\n",
       "      <td>C</td>\n",
       "    </tr>\n",
       "    <tr>\n",
       "      <th>276</th>\n",
       "      <td>1168</td>\n",
       "      <td>NaN</td>\n",
       "      <td>2</td>\n",
       "      <td>Parker, Mr. Clifford Richard</td>\n",
       "      <td>male</td>\n",
       "      <td>28.0</td>\n",
       "      <td>0</td>\n",
       "      <td>0</td>\n",
       "      <td>SC 14888</td>\n",
       "      <td>10.5000</td>\n",
       "      <td>NaN</td>\n",
       "      <td>S</td>\n",
       "    </tr>\n",
       "    <tr>\n",
       "      <th>871</th>\n",
       "      <td>872</td>\n",
       "      <td>1.0</td>\n",
       "      <td>1</td>\n",
       "      <td>Beckwith, Mrs. Richard Leonard (Sallie Monypeny)</td>\n",
       "      <td>female</td>\n",
       "      <td>47.0</td>\n",
       "      <td>1</td>\n",
       "      <td>1</td>\n",
       "      <td>11751</td>\n",
       "      <td>52.5542</td>\n",
       "      <td>D35</td>\n",
       "      <td>S</td>\n",
       "    </tr>\n",
       "  </tbody>\n",
       "</table>\n",
       "</div>"
      ],
      "text/plain": [
       "     PassengerId  Survived  Pclass  \\\n",
       "885          886       0.0       3   \n",
       "223          224       0.0       3   \n",
       "75           967       NaN       1   \n",
       "276         1168       NaN       2   \n",
       "871          872       1.0       1   \n",
       "\n",
       "                                                 Name     Sex   Age  SibSp  \\\n",
       "885              Rice, Mrs. William (Margaret Norton)  female  39.0      0   \n",
       "223                              Nenkoff, Mr. Christo    male   NaN      0   \n",
       "75                                 Keeping, Mr. Edwin    male  32.5      0   \n",
       "276                      Parker, Mr. Clifford Richard    male  28.0      0   \n",
       "871  Beckwith, Mrs. Richard Leonard (Sallie Monypeny)  female  47.0      1   \n",
       "\n",
       "     Parch    Ticket      Fare Cabin Embarked  \n",
       "885      5    382652   29.1250   NaN        Q  \n",
       "223      0    349234    7.8958   NaN        S  \n",
       "75       0    113503  211.5000  C132        C  \n",
       "276      0  SC 14888   10.5000   NaN        S  \n",
       "871      1     11751   52.5542   D35        S  "
      ]
     },
     "execution_count": 25,
     "metadata": {},
     "output_type": "execute_result"
    }
   ],
   "source": [
    "train = pd.read_csv('../input/train.csv')\n",
    "test = pd.read_csv('../input/test.csv')\n",
    "data = train.append(test, sort=False)\n",
    "data.sample(5)"
   ]
  },
  {
   "cell_type": "markdown",
   "metadata": {},
   "source": [
    "Look at types and incomplete features"
   ]
  },
  {
   "cell_type": "code",
   "execution_count": 26,
   "metadata": {},
   "outputs": [
    {
     "data": {
      "text/html": [
       "<div>\n",
       "<style scoped>\n",
       "    .dataframe tbody tr th:only-of-type {\n",
       "        vertical-align: middle;\n",
       "    }\n",
       "\n",
       "    .dataframe tbody tr th {\n",
       "        vertical-align: top;\n",
       "    }\n",
       "\n",
       "    .dataframe thead th {\n",
       "        text-align: right;\n",
       "    }\n",
       "</style>\n",
       "<table border=\"1\" class=\"dataframe\">\n",
       "  <thead>\n",
       "    <tr style=\"text-align: right;\">\n",
       "      <th></th>\n",
       "      <th>PassengerId</th>\n",
       "      <th>Pclass</th>\n",
       "      <th>Name</th>\n",
       "      <th>Sex</th>\n",
       "      <th>SibSp</th>\n",
       "      <th>Parch</th>\n",
       "      <th>Ticket</th>\n",
       "      <th>Fare</th>\n",
       "      <th>Embarked</th>\n",
       "      <th>Age</th>\n",
       "      <th>Survived</th>\n",
       "      <th>Cabin</th>\n",
       "    </tr>\n",
       "  </thead>\n",
       "  <tbody>\n",
       "    <tr>\n",
       "      <th>dtypes</th>\n",
       "      <td>int64</td>\n",
       "      <td>int64</td>\n",
       "      <td>object</td>\n",
       "      <td>object</td>\n",
       "      <td>int64</td>\n",
       "      <td>int64</td>\n",
       "      <td>object</td>\n",
       "      <td>float64</td>\n",
       "      <td>object</td>\n",
       "      <td>float64</td>\n",
       "      <td>float64</td>\n",
       "      <td>object</td>\n",
       "    </tr>\n",
       "    <tr>\n",
       "      <th>count</th>\n",
       "      <td>1309</td>\n",
       "      <td>1309</td>\n",
       "      <td>1309</td>\n",
       "      <td>1309</td>\n",
       "      <td>1309</td>\n",
       "      <td>1309</td>\n",
       "      <td>1309</td>\n",
       "      <td>1308</td>\n",
       "      <td>1307</td>\n",
       "      <td>1046</td>\n",
       "      <td>891</td>\n",
       "      <td>295</td>\n",
       "    </tr>\n",
       "  </tbody>\n",
       "</table>\n",
       "</div>"
      ],
      "text/plain": [
       "       PassengerId Pclass    Name     Sex  SibSp  Parch  Ticket     Fare  \\\n",
       "dtypes       int64  int64  object  object  int64  int64  object  float64   \n",
       "count         1309   1309    1309    1309   1309   1309    1309     1308   \n",
       "\n",
       "       Embarked      Age Survived   Cabin  \n",
       "dtypes   object  float64  float64  object  \n",
       "count      1307     1046      891     295  "
      ]
     },
     "execution_count": 26,
     "metadata": {},
     "output_type": "execute_result"
    }
   ],
   "source": [
    "def count(df:pd.DataFrame):\n",
    "    stat = pd.DataFrame([df.dtypes, df.count()], index=['dtypes', 'count'])\n",
    "    return stat.sort_values(by=['count'], axis=1, ascending=False)\n",
    "\n",
    "count(data)"
   ]
  },
  {
   "cell_type": "markdown",
   "metadata": {},
   "source": [
    "It seems we have 1309 objects. Incomplete features are:\n",
    "- Fare\n",
    "- Embarked\n",
    "- Age\n",
    "- Cabin"
   ]
  },
  {
   "cell_type": "markdown",
   "metadata": {},
   "source": [
    "## Create FamilySize and Alone features"
   ]
  },
  {
   "cell_type": "code",
   "execution_count": 27,
   "metadata": {},
   "outputs": [
    {
     "data": {
      "text/html": [
       "<div>\n",
       "<style scoped>\n",
       "    .dataframe tbody tr th:only-of-type {\n",
       "        vertical-align: middle;\n",
       "    }\n",
       "\n",
       "    .dataframe tbody tr th {\n",
       "        vertical-align: top;\n",
       "    }\n",
       "\n",
       "    .dataframe thead th {\n",
       "        text-align: right;\n",
       "    }\n",
       "</style>\n",
       "<table border=\"1\" class=\"dataframe\">\n",
       "  <thead>\n",
       "    <tr style=\"text-align: right;\">\n",
       "      <th></th>\n",
       "      <th>1</th>\n",
       "      <th>0</th>\n",
       "      <th>nans</th>\n",
       "    </tr>\n",
       "  </thead>\n",
       "  <tbody>\n",
       "    <tr>\n",
       "      <th>Alone counts</th>\n",
       "      <td>790</td>\n",
       "      <td>519</td>\n",
       "      <td>0</td>\n",
       "    </tr>\n",
       "  </tbody>\n",
       "</table>\n",
       "</div>"
      ],
      "text/plain": [
       "                1    0  nans\n",
       "Alone counts  790  519     0"
      ]
     },
     "execution_count": 27,
     "metadata": {},
     "output_type": "execute_result"
    }
   ],
   "source": [
    "data['FamilySize'] = data['SibSp'] + data['Parch'] + 1\n",
    "\n",
    "data['Alone'] = 0\n",
    "data.loc[data['FamilySize'] == 1, 'Alone'] = 1\n",
    "\n",
    "def value_counts(feature:pd.Series):\n",
    "    df = pd.DataFrame([feature.value_counts()], index=[feature.name + ' counts'])\n",
    "    df['nans'] = feature.isna().sum()\n",
    "    return df\n",
    "\n",
    "value_counts(data['Alone'])"
   ]
  },
  {
   "cell_type": "markdown",
   "metadata": {},
   "source": [
    "## Encode Sex"
   ]
  },
  {
   "cell_type": "code",
   "execution_count": 28,
   "metadata": {},
   "outputs": [
    {
     "data": {
      "text/html": [
       "<div>\n",
       "<style scoped>\n",
       "    .dataframe tbody tr th:only-of-type {\n",
       "        vertical-align: middle;\n",
       "    }\n",
       "\n",
       "    .dataframe tbody tr th {\n",
       "        vertical-align: top;\n",
       "    }\n",
       "\n",
       "    .dataframe thead th {\n",
       "        text-align: right;\n",
       "    }\n",
       "</style>\n",
       "<table border=\"1\" class=\"dataframe\">\n",
       "  <thead>\n",
       "    <tr style=\"text-align: right;\">\n",
       "      <th></th>\n",
       "      <th>1</th>\n",
       "      <th>0</th>\n",
       "      <th>nans</th>\n",
       "    </tr>\n",
       "  </thead>\n",
       "  <tbody>\n",
       "    <tr>\n",
       "      <th>Sex counts</th>\n",
       "      <td>843</td>\n",
       "      <td>466</td>\n",
       "      <td>0</td>\n",
       "    </tr>\n",
       "  </tbody>\n",
       "</table>\n",
       "</div>"
      ],
      "text/plain": [
       "              1    0  nans\n",
       "Sex counts  843  466     0"
      ]
     },
     "execution_count": 28,
     "metadata": {},
     "output_type": "execute_result"
    }
   ],
   "source": [
    "data['Sex'] = LabelEncoder().fit_transform(data['Sex'])\n",
    "\n",
    "value_counts(data['Sex'])"
   ]
  },
  {
   "cell_type": "markdown",
   "metadata": {},
   "source": [
    "## Extract Title from Name"
   ]
  },
  {
   "cell_type": "code",
   "execution_count": 29,
   "metadata": {},
   "outputs": [
    {
     "data": {
      "text/html": [
       "<div>\n",
       "<style scoped>\n",
       "    .dataframe tbody tr th:only-of-type {\n",
       "        vertical-align: middle;\n",
       "    }\n",
       "\n",
       "    .dataframe tbody tr th {\n",
       "        vertical-align: top;\n",
       "    }\n",
       "\n",
       "    .dataframe thead th {\n",
       "        text-align: right;\n",
       "    }\n",
       "</style>\n",
       "<table border=\"1\" class=\"dataframe\">\n",
       "  <thead>\n",
       "    <tr style=\"text-align: right;\">\n",
       "      <th></th>\n",
       "      <th>Mr</th>\n",
       "      <th>Miss</th>\n",
       "      <th>Mrs</th>\n",
       "      <th>Master</th>\n",
       "      <th>Dr</th>\n",
       "      <th>Rev</th>\n",
       "      <th>Col</th>\n",
       "      <th>Major</th>\n",
       "      <th>Mlle</th>\n",
       "      <th>Ms</th>\n",
       "      <th>Dona</th>\n",
       "      <th>Sir</th>\n",
       "      <th>Mme</th>\n",
       "      <th>Capt</th>\n",
       "      <th>Jonkheer</th>\n",
       "      <th>Lady</th>\n",
       "      <th>Don</th>\n",
       "      <th>the Countess</th>\n",
       "      <th>nans</th>\n",
       "    </tr>\n",
       "  </thead>\n",
       "  <tbody>\n",
       "    <tr>\n",
       "      <th>Title counts</th>\n",
       "      <td>757</td>\n",
       "      <td>260</td>\n",
       "      <td>197</td>\n",
       "      <td>61</td>\n",
       "      <td>8</td>\n",
       "      <td>8</td>\n",
       "      <td>4</td>\n",
       "      <td>2</td>\n",
       "      <td>2</td>\n",
       "      <td>2</td>\n",
       "      <td>1</td>\n",
       "      <td>1</td>\n",
       "      <td>1</td>\n",
       "      <td>1</td>\n",
       "      <td>1</td>\n",
       "      <td>1</td>\n",
       "      <td>1</td>\n",
       "      <td>1</td>\n",
       "      <td>0</td>\n",
       "    </tr>\n",
       "  </tbody>\n",
       "</table>\n",
       "</div>"
      ],
      "text/plain": [
       "               Mr  Miss  Mrs  Master  Dr  Rev  Col  Major  Mlle  Ms  Dona  \\\n",
       "Title counts  757   260  197      61   8    8    4      2     2   2     1   \n",
       "\n",
       "              Sir  Mme  Capt  Jonkheer  Lady  Don  the Countess  nans  \n",
       "Title counts    1    1     1         1     1    1             1     0  "
      ]
     },
     "execution_count": 29,
     "metadata": {},
     "output_type": "execute_result"
    }
   ],
   "source": [
    "data['Title'] = data['Name'].str.extract(r', (.*?)\\.', expand=False)\n",
    "\n",
    "value_counts(data['Title'])"
   ]
  },
  {
   "cell_type": "markdown",
   "metadata": {},
   "source": [
    "See [english honorifics](https://en.wikipedia.org/wiki/English_honorifics) for reference."
   ]
  },
  {
   "cell_type": "code",
   "execution_count": 30,
   "metadata": {},
   "outputs": [
    {
     "data": {
      "text/html": [
       "<div>\n",
       "<style scoped>\n",
       "    .dataframe tbody tr th:only-of-type {\n",
       "        vertical-align: middle;\n",
       "    }\n",
       "\n",
       "    .dataframe tbody tr th {\n",
       "        vertical-align: top;\n",
       "    }\n",
       "\n",
       "    .dataframe thead th {\n",
       "        text-align: right;\n",
       "    }\n",
       "</style>\n",
       "<table border=\"1\" class=\"dataframe\">\n",
       "  <thead>\n",
       "    <tr style=\"text-align: right;\">\n",
       "      <th></th>\n",
       "      <th>Mr</th>\n",
       "      <th>Miss</th>\n",
       "      <th>Mrs</th>\n",
       "      <th>Master</th>\n",
       "      <th>nans</th>\n",
       "    </tr>\n",
       "  </thead>\n",
       "  <tbody>\n",
       "    <tr>\n",
       "      <th>Title counts</th>\n",
       "      <td>783</td>\n",
       "      <td>264</td>\n",
       "      <td>201</td>\n",
       "      <td>61</td>\n",
       "      <td>0</td>\n",
       "    </tr>\n",
       "  </tbody>\n",
       "</table>\n",
       "</div>"
      ],
      "text/plain": [
       "               Mr  Miss  Mrs  Master  nans\n",
       "Title counts  783   264  201      61     0"
      ]
     },
     "execution_count": 30,
     "metadata": {},
     "output_type": "execute_result"
    }
   ],
   "source": [
    "data['Title'].replace(['Mlle', 'Ms'], 'Miss', inplace=True)\n",
    "data['Title'].replace(['Mme', 'Lady', 'Countess', 'Dona', 'the Countess'], 'Mrs', inplace=True)\n",
    "data['Title'].replace(['Capt', 'Col', 'Don', 'Dr', 'Major', 'Rev', 'Sir', 'Jonkheer'], 'Mr', inplace=True)\n",
    "value_counts(data['Title'])"
   ]
  },
  {
   "cell_type": "code",
   "execution_count": 31,
   "metadata": {},
   "outputs": [],
   "source": [
    "data['Title'] = LabelEncoder().fit_transform(data['Title'])"
   ]
  },
  {
   "cell_type": "markdown",
   "metadata": {},
   "source": [
    "## Fix Fare"
   ]
  },
  {
   "cell_type": "code",
   "execution_count": 32,
   "metadata": {},
   "outputs": [
    {
     "name": "stdout",
     "output_type": "stream",
     "text": [
      "mae 14.569436846696348\n",
      "score 0.5003303431712054\n"
     ]
    },
    {
     "name": "stderr",
     "output_type": "stream",
     "text": [
      "c:\\dev\\smurfy\\.venv\\lib\\site-packages\\xgboost\\core.py:587: FutureWarning: Series.base is deprecated and will be removed in a future version\n",
      "  if getattr(data, 'base', None) is not None and \\\n",
      "c:\\dev\\smurfy\\.venv\\lib\\site-packages\\xgboost\\core.py:588: FutureWarning: Series.base is deprecated and will be removed in a future version\n",
      "  data.base is not None and isinstance(data, np.ndarray) \\\n"
     ]
    },
    {
     "data": {
      "text/plain": [
       "<matplotlib.axes._subplots.AxesSubplot at 0xbb35b0>"
      ]
     },
     "execution_count": 32,
     "metadata": {},
     "output_type": "execute_result"
    },
    {
     "data": {
      "image/png": "[encoded data removed]",
      "text/plain": [
       "<Figure size 432x288 with 1 Axes>"
      ]
     },
     "metadata": {
      "needs_background": "light"
     },
     "output_type": "display_data"
    }
   ],
   "source": [
    "def infer(df:pd.DataFrame, features:np.array, target:str):\n",
    "    # select training data and fit regressor\n",
    "    train = df[df[target].notna()]\n",
    "    x = train.loc[:, features]\n",
    "    y = train.loc[:, target]\n",
    "    #model = linear_model.LinearRegression().fit(x, y)\n",
    "    model = xgb.XGBRegressor().fit(x, y)\n",
    "    print('mae', metrics.mean_absolute_error(y, model.predict(x)))\n",
    "    print('score', model.score(x, y))\n",
    "    \n",
    "    # predict missing target values\n",
    "    na_mask = df[target].isna()\n",
    "    predict = df[na_mask]\n",
    "    x_predict = predict.loc[:, features]\n",
    "    y_predict = model.predict(x_predict)\n",
    "\n",
    "    # create new feature\n",
    "    df[target + '_'] = df[target]\n",
    "    df.loc[na_mask, target + '_'] = y_predict\n",
    "    \n",
    "infer(data, ['Pclass', 'SibSp', 'Title'], 'Fare')\n",
    "# Sex and Parch - increase mae\n",
    "\n",
    "#count(data)\n",
    "data['Fare_'].plot.kde()"
   ]
  },
  {
   "cell_type": "markdown",
   "metadata": {},
   "source": [
    "## Fix Age"
   ]
  },
  {
   "cell_type": "code",
   "execution_count": 33,
   "metadata": {},
   "outputs": [
    {
     "name": "stdout",
     "output_type": "stream",
     "text": [
      "mae 7.521876524059996\n",
      "score 0.542715388050526\n"
     ]
    },
    {
     "name": "stderr",
     "output_type": "stream",
     "text": [
      "c:\\dev\\smurfy\\.venv\\lib\\site-packages\\xgboost\\core.py:587: FutureWarning: Series.base is deprecated and will be removed in a future version\n",
      "  if getattr(data, 'base', None) is not None and \\\n",
      "c:\\dev\\smurfy\\.venv\\lib\\site-packages\\xgboost\\core.py:588: FutureWarning: Series.base is deprecated and will be removed in a future version\n",
      "  data.base is not None and isinstance(data, np.ndarray) \\\n"
     ]
    },
    {
     "data": {
      "text/plain": [
       "<matplotlib.axes._subplots.AxesSubplot at 0xbaebb0>"
      ]
     },
     "execution_count": 33,
     "metadata": {},
     "output_type": "execute_result"
    },
    {
     "data": {
      "image/png": "[encoded data removed]",
      "text/plain": [
       "<Figure size 432x288 with 1 Axes>"
      ]
     },
     "metadata": {
      "needs_background": "light"
     },
     "output_type": "display_data"
    }
   ],
   "source": [
    "infer(data, ['Pclass', 'FamilySize', 'Title', 'Sex', 'Fare_'], 'Age')\n",
    "\n",
    "#count(data)\n",
    "data['Age_'].plot.kde()"
   ]
  },
  {
   "cell_type": "markdown",
   "metadata": {},
   "source": [
    "## Encode and fix Embarked"
   ]
  },
  {
   "cell_type": "code",
   "execution_count": 61,
   "metadata": {
    "scrolled": true
   },
   "outputs": [
    {
     "name": "stdout",
     "output_type": "stream",
     "text": [
      "Score 0.9931140015302219\n",
      "{'learning_rate': 0.5, 'max_depth': 3, 'n_estimators': 500}\n"
     ]
    },
    {
     "data": {
      "text/html": [
       "<div>\n",
       "<style scoped>\n",
       "    .dataframe tbody tr th:only-of-type {\n",
       "        vertical-align: middle;\n",
       "    }\n",
       "\n",
       "    .dataframe tbody tr th {\n",
       "        vertical-align: top;\n",
       "    }\n",
       "\n",
       "    .dataframe thead th {\n",
       "        text-align: right;\n",
       "    }\n",
       "</style>\n",
       "<table border=\"1\" class=\"dataframe\">\n",
       "  <thead>\n",
       "    <tr style=\"text-align: right;\">\n",
       "      <th></th>\n",
       "      <th>2.0</th>\n",
       "      <th>0.0</th>\n",
       "      <th>1.0</th>\n",
       "      <th>nans</th>\n",
       "    </tr>\n",
       "  </thead>\n",
       "  <tbody>\n",
       "    <tr>\n",
       "      <th>Embarked__ counts</th>\n",
       "      <td>915</td>\n",
       "      <td>271</td>\n",
       "      <td>123</td>\n",
       "      <td>0</td>\n",
       "    </tr>\n",
       "  </tbody>\n",
       "</table>\n",
       "</div>"
      ],
      "text/plain": [
       "                   2.0  0.0  1.0  nans\n",
       "Embarked__ counts  915  271  123     0"
      ]
     },
     "execution_count": 61,
     "metadata": {},
     "output_type": "execute_result"
    }
   ],
   "source": [
    "def infer_cat(df:pd.DataFrame, features:np.array, target:str):\n",
    "    # select training data and classifier\n",
    "    train = df[df[target].notna()]\n",
    "    x = train.loc[:, features]\n",
    "    y = train.loc[:, target]\n",
    "    parameters = {'max_depth': [3, 5],\n",
    "                  'learning_rate': [0.1, 0.5],\n",
    "                  'n_estimators': [100, 500]}\n",
    "    model = model_selection.GridSearchCV(xgb.XGBClassifier(), parameters, cv=3).fit(x, y)\n",
    "    print('Score', model.score(x, y))  \n",
    "    print(model.best_params_)\n",
    "    \n",
    "    # predict missing target values\n",
    "    na_mask = df[target].isna()\n",
    "    x_predict = df[na_mask].loc[:, features]\n",
    "    df[target + '_'] = df[target]\n",
    "    df.loc[na_mask, target + '_'] = model.predict(x_predict)\n",
    "\n",
    "# encode\n",
    "notna = data['Embarked'].notna()\n",
    "y = data[notna].loc[:, 'Embarked']\n",
    "data.loc[notna, 'Embarked_'] = LabelEncoder().fit_transform(y)\n",
    "\n",
    "infer_cat(data, ['Pclass', 'SibSp', 'Parch', 'Title', 'Fare_', 'Age_'], 'Embarked_')\n",
    "\n",
    "value_counts(data['Embarked__'])"
   ]
  },
  {
   "cell_type": "markdown",
   "metadata": {},
   "source": [
    "## Finally predict Survived"
   ]
  },
  {
   "cell_type": "code",
   "execution_count": 54,
   "metadata": {},
   "outputs": [
    {
     "name": "stdout",
     "output_type": "stream",
     "text": [
      "     Train accuracy 0.8974719101123596\n",
      "Validation accuracy 0.9217877094972067\n"
     ]
    }
   ],
   "source": [
    "train = data[data['Survived'].notna()]\n",
    "test = data[data['Survived'].isna()]\n",
    "\n",
    "# prepare train for fitting\n",
    "# other features appears useless\n",
    "features = ['Age_', 'Sex', 'Pclass', 'Fare_', 'FamilySize', 'Alone', 'Embarked__']\n",
    "x = train.loc[:, features]\n",
    "y = train.loc[:, 'Survived']\n",
    "XTrain, XValid, YTrain, YValid = model_selection.train_test_split(x, y, test_size=0.2, random_state=40)\n",
    "\n",
    "# train model\n",
    "model = xgb.XGBClassifier(objective='binary:logistic', max_depth=4, reg_alpha=1, reg_lambda=0).fit(x, y)\n",
    "\n",
    "def accuracy(Y: np.array, yPred: np.array) -> float:\n",
    "  return np.sum(yPred==Y) / len(Y)\n",
    "\n",
    "# use model to predict on training and validation sets\n",
    "print('     Train accuracy', accuracy(YTrain, model.predict(XTrain)))\n",
    "print('Validation accuracy', accuracy(YValid, model.predict(XValid)))"
   ]
  },
  {
   "cell_type": "markdown",
   "metadata": {},
   "source": [
    "## Predict on test set"
   ]
  },
  {
   "cell_type": "code",
   "execution_count": 41,
   "metadata": {},
   "outputs": [],
   "source": [
    "# predict for test set\n",
    "XTest = test.loc[:, features]\n",
    "YTest = model.predict(XTest)"
   ]
  },
  {
   "cell_type": "markdown",
   "metadata": {},
   "source": [
    "## Save results"
   ]
  },
  {
   "cell_type": "code",
   "execution_count": 42,
   "metadata": {},
   "outputs": [],
   "source": [
    "# create a Kaggle submission\n",
    "sub = pd.DataFrame({'PassengerId': test['PassengerId'], 'Survived': YTest.astype('int64')})\n",
    "sub.to_csv('submission.csv', index=False)"
   ]
  },
  {
   "cell_type": "markdown",
   "metadata": {},
   "source": [
    "## Thanks!!!"
   ]
  }
 ],
 "metadata": {
  "kernelspec": {
   "display_name": "Python 3",
   "language": "python",
   "name": "python3"
  },
  "language_info": {
   "codemirror_mode": {
    "name": "ipython",
    "version": 3
   },
   "file_extension": ".py",
   "mimetype": "text/x-python",
   "name": "python",
   "nbconvert_exporter": "python",
   "pygments_lexer": "ipython3",
   "version": "3.7.2"
  }
 },
 "nbformat": 4,
 "nbformat_minor": 2
}
