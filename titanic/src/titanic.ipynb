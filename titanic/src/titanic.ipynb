{
 "cells": [
  {
   "cell_type": "markdown",
   "metadata": {},
   "source": [
    "---\n",
    "\n",
    "03/2019 <p style=\"text-align: right\">Anton Panchenko</p>\n",
    "\n",
    "\n",
    "![Titanic](https://cdn-static.denofgeek.com/sites/denofgeek/files/styles/main_wide/public/2015/10/raise-main.jpg?itok=QBxamb0z)"
   ]
  },
  {
   "cell_type": "code",
   "execution_count": null,
   "metadata": {},
   "outputs": [],
   "source": [
    "from sys import version\n",
    "print(\"python\", version)\n",
    "\n",
    "import os\n",
    "import re\n",
    "import numpy as np\n",
    "print(\"numpy\", np.__version__)\n",
    "\n",
    "import pandas as pd\n",
    "print(\"pandas\", pd.__version__)\n",
    "\n",
    "import seaborn as sns\n",
    "print(\"seaborn\", sns.__version__)\n",
    "\n",
    "from sklearn.preprocessing import LabelEncoder\n",
    "from sklearn import model_selection\n",
    "from sklearn import linear_model\n",
    "from sklearn import metrics\n",
    "\n",
    "import xgboost as xgb\n",
    "print(\"xgboost\", xgb.__version__)\n",
    "\n",
    "import warnings\n",
    "warnings.simplefilter(action='ignore', category=FutureWarning)\n",
    "\n",
    "os.listdir(\"../input\")"
   ]
  },
  {
   "cell_type": "markdown",
   "metadata": {},
   "source": [
    "## Introduction\n",
    "\n",
    "Load and merge datasets, meet data"
   ]
  },
  {
   "cell_type": "code",
   "execution_count": null,
   "metadata": {
    "scrolled": true
   },
   "outputs": [],
   "source": [
    "train = pd.read_csv('../input/train.csv')\n",
    "test = pd.read_csv('../input/test.csv')\n",
    "data = train.append(test, sort=False)\n",
    "data.sample(5)"
   ]
  },
  {
   "cell_type": "markdown",
   "metadata": {},
   "source": [
    "Look at types and incomplete features"
   ]
  },
  {
   "cell_type": "code",
   "execution_count": null,
   "metadata": {},
   "outputs": [],
   "source": [
    "def count(df:pd.DataFrame):\n",
    "    stat = pd.DataFrame([df.dtypes, df.count(), df.isna().sum()], index=['dtypes', 'values', 'nans'])\n",
    "    return stat.sort_values(by=['values'], axis=1, ascending=False)\n",
    "\n",
    "count(data)"
   ]
  },
  {
   "cell_type": "markdown",
   "metadata": {},
   "source": [
    "It seems we have 1309 objects.\n",
    "\n",
    "Features to make categorical:\n",
    "- Name\n",
    "- Sex\n",
    "- Ticket\n",
    "- Embarked\n",
    "\n",
    "Incomplete features are:\n",
    "- Fare\n",
    "- Embarked\n",
    "- Age\n",
    "- Cabin\n",
    "\n",
    "Solve them in this order"
   ]
  },
  {
   "cell_type": "markdown",
   "metadata": {},
   "source": [
    "\n",
    "## Check tickets"
   ]
  },
  {
   "cell_type": "code",
   "execution_count": null,
   "metadata": {},
   "outputs": [],
   "source": [
    "def value_counts(feature:pd.Series):\n",
    "    df = pd.DataFrame([feature.value_counts()], index=[feature.name])\n",
    "    df['nan'] = feature.isna().sum()\n",
    "    return df\n",
    "\n",
    "def encode_cat(df:pd.DataFrame, label:str):\n",
    "    target = label.lower() + '_cat'\n",
    "    if target in df:\n",
    "        df.drop(columns=target, inplace=True)\n",
    "    notna = df[label].notna()\n",
    "    y = df[notna].loc[:, label]\n",
    "    df.loc[notna, target] = LabelEncoder().fit_transform(y).astype('int32')\n",
    "    return value_counts(df[target])\n",
    "\n",
    "encode_cat(data, 'Ticket')"
   ]
  },
  {
   "cell_type": "markdown",
   "metadata": {},
   "source": [
    "## Create FamilySize and Alone features"
   ]
  },
  {
   "cell_type": "code",
   "execution_count": null,
   "metadata": {},
   "outputs": [],
   "source": [
    "data['family_size'] = data['SibSp'] + data['Parch'] + 1\n",
    "\n",
    "data['alone'] = 0\n",
    "data.loc[data['family_size'] == 1, 'alone'] = 1\n",
    "\n",
    "value_counts(data['alone'])"
   ]
  },
  {
   "cell_type": "markdown",
   "metadata": {},
   "source": [
    "## Encode Sex"
   ]
  },
  {
   "cell_type": "code",
   "execution_count": null,
   "metadata": {},
   "outputs": [],
   "source": [
    "encode_cat(data, 'Sex')"
   ]
  },
  {
   "cell_type": "markdown",
   "metadata": {},
   "source": [
    "## Extract Title from Name"
   ]
  },
  {
   "cell_type": "code",
   "execution_count": null,
   "metadata": {},
   "outputs": [],
   "source": [
    "data['title'] = data['Name'].str.extract(r', (.*?)\\.', expand=False)\n",
    "\n",
    "value_counts(data['title'])"
   ]
  },
  {
   "cell_type": "markdown",
   "metadata": {},
   "source": [
    "See [english honorifics](https://en.wikipedia.org/wiki/English_honorifics) for reference."
   ]
  },
  {
   "cell_type": "code",
   "execution_count": null,
   "metadata": {},
   "outputs": [],
   "source": [
    "data['title'].replace(['Mlle', 'Ms'], 'Miss', inplace=True)\n",
    "data['title'].replace(['Mme', 'Lady', 'Countess', 'Dona', 'the Countess'], 'Mrs', inplace=True)\n",
    "data['title'].replace(['Capt', 'Col', 'Don', 'Dr', 'Major', 'Rev', 'Sir', 'Jonkheer'], 'Mr', inplace=True)\n",
    "value_counts(data['title'])"
   ]
  },
  {
   "cell_type": "code",
   "execution_count": null,
   "metadata": {},
   "outputs": [],
   "source": [
    "encode_cat(data, 'title')"
   ]
  },
  {
   "cell_type": "markdown",
   "metadata": {},
   "source": [
    "## Fix Fare"
   ]
  },
  {
   "cell_type": "code",
   "execution_count": null,
   "metadata": {
    "scrolled": true
   },
   "outputs": [],
   "source": [
    "def infer(df:pd.DataFrame, params, features:np.array, target:str):\n",
    "    # select training data and fit regressor\n",
    "    train = df[df[target].notna()]\n",
    "    x = train.loc[:, features]\n",
    "    y = train.loc[:, target]\n",
    "    regressor = xgb.XGBRegressor(n_jobs=4)\n",
    "    grid = model_selection.GridSearchCV(regressor, params, cv=5).fit(x, y)\n",
    "    print('score', grid.best_score_)\n",
    "    print('params', grid.best_params_)  \n",
    "    regressor = grid.best_estimator_    \n",
    "    \n",
    "    # predict missing target values\n",
    "    na_mask = df[target].isna()\n",
    "    predict = df[na_mask]\n",
    "    x_predict = predict.loc[:, features]\n",
    "    y_predict = regressor.predict(x_predict)\n",
    "\n",
    "    # create new feature\n",
    "    new_feature = target + '_'\n",
    "    df[new_feature] = df[target]\n",
    "    df.loc[na_mask, new_feature] = y_predict\n",
    "    df[new_feature].plot.kde()\n",
    "\n",
    "    # return feature importance\n",
    "    feature_importance = pd.DataFrame({'feature':features, 'importance':regressor.feature_importances_})\n",
    "    return feature_importance.sort_values(by='importance', ascending=False)\n",
    "\n",
    "params = {'max_depth': [2, 3, 4],\n",
    "          'learning_rate': [0.3, 0.4, 0.5],\n",
    "          'n_estimators': [150, 170, 190]}\n",
    "\n",
    "fare_features = ['Pclass', 'SibSp', 'sex_cat', 'title_cat', 'ticket_cat', 'family_size']\n",
    "\n",
    "infer(data, params, fare_features, 'Fare')"
   ]
  },
  {
   "cell_type": "markdown",
   "metadata": {},
   "source": [
    "## Encode and fix Embarked"
   ]
  },
  {
   "cell_type": "code",
   "execution_count": null,
   "metadata": {},
   "outputs": [],
   "source": [
    "encode_cat(data, 'Embarked')"
   ]
  },
  {
   "cell_type": "code",
   "execution_count": null,
   "metadata": {
    "scrolled": true
   },
   "outputs": [],
   "source": [
    "def infer_cat(df, params, features, target:str):\n",
    "    # select training data and classifier\n",
    "    train = df[df[target].notna()]\n",
    "    x = train.loc[:, features]\n",
    "    y = train.loc[:, target]\n",
    "    estimator = xgb.XGBClassifier(n_jobs=4)\n",
    "    grid = model_selection.GridSearchCV(estimator, params, cv=3).fit(x, y)\n",
    "    print('score', grid.best_score_)\n",
    "    print('params', grid.best_params_)  \n",
    "    estimator = grid.best_estimator_  \n",
    "    \n",
    "    # predict missing target values \n",
    "    na = df[target].isna()\n",
    "    x_predict = df[na].loc[:, features]\n",
    "    y_predict = estimator.predict(x_predict)\n",
    "    \n",
    "    # create new feature\n",
    "    new_feature = target + '_'\n",
    "    df[new_feature] = df[target]\n",
    "    df.loc[na, new_feature] = y_predict\n",
    "    df[new_feature] = df[new_feature].astype('int64')\n",
    "    return value_counts(df[new_feature])\n",
    "\n",
    "params = {'max_depth': [3, 4, 5],\n",
    "          'learning_rate': [0.4, 0.5, 0.6],\n",
    "          'n_estimators': [400, 500, 600]}\n",
    "\n",
    "emb_features = np.append(fare_features, 'Fare_')\n",
    "\n",
    "infer_cat(data, params, emb_features, 'embarked_cat')"
   ]
  },
  {
   "cell_type": "markdown",
   "metadata": {},
   "source": [
    "## Fix Age"
   ]
  },
  {
   "cell_type": "code",
   "execution_count": null,
   "metadata": {},
   "outputs": [],
   "source": [
    "infer(data, ['Pclass', 'SibSp', 'sex_cat', 'title_cat', 'ticket_cat', 'family_size', 'Fare_'], 'Age')"
   ]
  },
  {
   "cell_type": "markdown",
   "metadata": {},
   "source": [
    "## Finally predict Survived"
   ]
  },
  {
   "cell_type": "code",
   "execution_count": null,
   "metadata": {},
   "outputs": [],
   "source": [
    "infer_cat(data, ['Pclass', 'SibSp', 'Parch', 'title_cat', 'sex_cat', 'Fare_', 'Age_', 'embarked_cat'], 'Survived')"
   ]
  },
  {
   "cell_type": "code",
   "execution_count": null,
   "metadata": {},
   "outputs": [],
   "source": [
    "na_mask = data['Survived'].isna()\n",
    "# create a Kaggle submission\n",
    "sub = pd.DataFrame({'PassengerId': test['PassengerId'], 'Survived': data[na_mask].loc[:, 'Survived_']})\n",
    "sub.to_csv('submission.csv', index=False)"
   ]
  },
  {
   "cell_type": "markdown",
   "metadata": {},
   "source": [
    "## Thanks!!!"
   ]
  }
 ],
 "metadata": {
  "kernelspec": {
   "display_name": "Python 3",
   "language": "python",
   "name": "python3"
  },
  "language_info": {
   "codemirror_mode": {
    "name": "ipython",
    "version": 3
   },
   "file_extension": ".py",
   "mimetype": "text/x-python",
   "name": "python",
   "nbconvert_exporter": "python",
   "pygments_lexer": "ipython3",
   "version": "3.7.3"
  }
 },
 "nbformat": 4,
 "nbformat_minor": 2
}
