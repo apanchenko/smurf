{
 "cells": [
  {
   "cell_type": "markdown",
   "metadata": {},
   "source": [
    "---\n",
    "\n",
    "03/2019 <p style=\"text-align: right\">Anton Panchenko</p>\n",
    "\n",
    "\n",
    "![Titanic](https://cdn-static.denofgeek.com/sites/denofgeek/files/styles/main_wide/public/2015/10/raise-main.jpg?itok=QBxamb0z)"
   ]
  },
  {
   "cell_type": "code",
   "execution_count": null,
   "metadata": {},
   "outputs": [],
   "source": [
    "from sys import version\n",
    "print(\"python\", version)\n",
    "\n",
    "import os\n",
    "import re\n",
    "import numpy as np\n",
    "print(\"numpy\", np.__version__)\n",
    "\n",
    "import pandas as pd\n",
    "print(\"pandas\", pd.__version__)\n",
    "\n",
    "import seaborn as sns\n",
    "print(\"seaborn\", sns.__version__)\n",
    "\n",
    "from sklearn.preprocessing import LabelEncoder\n",
    "from sklearn import model_selection\n",
    "from sklearn import linear_model\n",
    "from sklearn import metrics\n",
    "\n",
    "import xgboost as xgb\n",
    "print(\"xgboost\", xgb.__version__)\n",
    "\n",
    "os.listdir(\"../input\")"
   ]
  },
  {
   "cell_type": "markdown",
   "metadata": {},
   "source": [
    "## Introduction\n",
    "\n",
    "Load and merge datasets, meet data"
   ]
  },
  {
   "cell_type": "code",
   "execution_count": null,
   "metadata": {
    "scrolled": true
   },
   "outputs": [],
   "source": [
    "train = pd.read_csv('../input/train.csv')\n",
    "test = pd.read_csv('../input/test.csv')\n",
    "data = train.append(test, sort=False)\n",
    "data.sample(5)"
   ]
  },
  {
   "cell_type": "markdown",
   "metadata": {},
   "source": [
    "Look at types and incomplete features"
   ]
  },
  {
   "cell_type": "code",
   "execution_count": null,
   "metadata": {},
   "outputs": [],
   "source": [
    "def count(df:pd.DataFrame):\n",
    "    stat = pd.DataFrame([df.dtypes, df.count(), df.isna().sum()], index=['dtypes', 'values', 'nans'])\n",
    "    return stat.sort_values(by=['values'], axis=1, ascending=False)\n",
    "\n",
    "count(data)"
   ]
  },
  {
   "cell_type": "markdown",
   "metadata": {},
   "source": [
    "It seems we have 1309 objects. Incomplete features are:\n",
    "- Fare\n",
    "- Embarked\n",
    "- Age\n",
    "- Cabin"
   ]
  },
  {
   "cell_type": "markdown",
   "metadata": {},
   "source": [
    "\n",
    "## Check tickets"
   ]
  },
  {
   "cell_type": "code",
   "execution_count": null,
   "metadata": {},
   "outputs": [],
   "source": [
    "def value_counts(feature:pd.Series):\n",
    "    df = pd.DataFrame([feature.value_counts()], index=[feature.name])\n",
    "    df['nan'] = feature.isna().sum()\n",
    "    return df\n",
    "\n",
    "def encode_cat(df:pd.DataFrame, label:str):\n",
    "    target = label.lower() + '_cat'\n",
    "    if target in df:\n",
    "        df.drop(columns=target, inplace=True)\n",
    "    notna = df[label].notna()\n",
    "    y = df[notna].loc[:, label]\n",
    "    df.loc[notna, target] = LabelEncoder().fit_transform(y).astype('int32')\n",
    "    return value_counts(df[target])\n",
    "\n",
    "encode_cat(data, 'Ticket')"
   ]
  },
  {
   "cell_type": "markdown",
   "metadata": {},
   "source": [
    "## Create FamilySize and Alone features"
   ]
  },
  {
   "cell_type": "code",
   "execution_count": null,
   "metadata": {},
   "outputs": [],
   "source": [
    "data['family_size'] = data['SibSp'] + data['Parch'] + 1\n",
    "\n",
    "data['alone'] = 0\n",
    "data.loc[data['family_size'] == 1, 'alone'] = 1\n",
    "\n",
    "value_counts(data['alone'])"
   ]
  },
  {
   "cell_type": "markdown",
   "metadata": {},
   "source": [
    "## Encode Sex"
   ]
  },
  {
   "cell_type": "code",
   "execution_count": null,
   "metadata": {},
   "outputs": [],
   "source": [
    "encode_cat(data, 'Sex')"
   ]
  },
  {
   "cell_type": "markdown",
   "metadata": {},
   "source": [
    "## Extract Title from Name"
   ]
  },
  {
   "cell_type": "code",
   "execution_count": null,
   "metadata": {},
   "outputs": [],
   "source": [
    "data['title'] = data['Name'].str.extract(r', (.*?)\\.', expand=False)\n",
    "\n",
    "value_counts(data['title'])"
   ]
  },
  {
   "cell_type": "markdown",
   "metadata": {},
   "source": [
    "See [english honorifics](https://en.wikipedia.org/wiki/English_honorifics) for reference."
   ]
  },
  {
   "cell_type": "code",
   "execution_count": null,
   "metadata": {},
   "outputs": [],
   "source": [
    "data['title'].replace(['Mlle', 'Ms'], 'Miss', inplace=True)\n",
    "data['title'].replace(['Mme', 'Lady', 'Countess', 'Dona', 'the Countess'], 'Mrs', inplace=True)\n",
    "data['title'].replace(['Capt', 'Col', 'Don', 'Dr', 'Major', 'Rev', 'Sir', 'Jonkheer'], 'Mr', inplace=True)\n",
    "value_counts(data['title'])"
   ]
  },
  {
   "cell_type": "code",
   "execution_count": null,
   "metadata": {},
   "outputs": [],
   "source": [
    "encode_cat(data, 'title')"
   ]
  },
  {
   "cell_type": "markdown",
   "metadata": {},
   "source": [
    "## Fix Fare"
   ]
  },
  {
   "cell_type": "code",
   "execution_count": null,
   "metadata": {
    "scrolled": true
   },
   "outputs": [],
   "source": [
    "def infer(df:pd.DataFrame, features:np.array, target:str):\n",
    "    # select training data and fit regressor\n",
    "    train = df[df[target].notna()]\n",
    "    x = train.loc[:, features]\n",
    "    y = train.loc[:, target]\n",
    "    #model = linear_model.LinearRegression().fit(x, y)\n",
    "    model = xgb.XGBRegressor(max_depth=2, learning_rate=1.5, n_estimators=1000, n_jobs=4, base_score=y.median()).fit(x, y)\n",
    "    #parameters = {'max_depth': [2, 3, 4],\n",
    "    #              'learning_rate': [1.2],\n",
    "    #              'n_estimators': [1000]}\n",
    "    #regressor = xgb.XGBRegressor(n_jobs=4, base_score=y.median())\n",
    "    #model = model_selection.GridSearchCV(regressor, parameters, cv=3).fit(x, y)\n",
    "    print('mae', metrics.mean_absolute_error(y, model.predict(x)))\n",
    "    print('score', model.score(x, y))\n",
    "    #print(model.best_params_)\n",
    "    \n",
    "    # predict missing target values\n",
    "    na_mask = df[target].isna()\n",
    "    predict = df[na_mask]\n",
    "    x_predict = predict.loc[:, features]\n",
    "    y_predict = model.predict(x_predict)\n",
    "\n",
    "    # create new feature\n",
    "    df[target + '_'] = df[target]\n",
    "    df.loc[na_mask, target + '_'] = y_predict\n",
    "    \n",
    "infer(data, ['Pclass', 'SibSp', 'sex_cat', 'title_cat', 'ticket_cat'], 'Fare')\n",
    "# Sex and Parch - increase mae\n",
    "\n",
    "#count(data)\n",
    "data['Fare_'].plot.kde()"
   ]
  },
  {
   "cell_type": "markdown",
   "metadata": {},
   "source": [
    "## Fix Age"
   ]
  },
  {
   "cell_type": "code",
   "execution_count": null,
   "metadata": {},
   "outputs": [],
   "source": [
    "infer(data, ['Pclass', 'SibSp', 'sex_cat', 'title_cat', 'ticket_cat', 'Fare_'], 'Age')\n",
    "\n",
    "#count(data)\n",
    "data['Age_'].plot.kde()"
   ]
  },
  {
   "cell_type": "markdown",
   "metadata": {},
   "source": [
    "## Encode and fix Embarked"
   ]
  },
  {
   "cell_type": "code",
   "execution_count": null,
   "metadata": {},
   "outputs": [],
   "source": [
    "encode_cat(data, 'Embarked')"
   ]
  },
  {
   "cell_type": "code",
   "execution_count": null,
   "metadata": {
    "scrolled": true
   },
   "outputs": [],
   "source": [
    "def infer_cat(df:pd.DataFrame, features:np.array, label:str):\n",
    "    # select training data and classifier\n",
    "    train = df[df[label].notna()]\n",
    "    x = train.loc[:, features]\n",
    "    y = train.loc[:, label]\n",
    "    parameters = {'max_depth': [3, 5],\n",
    "                  'learning_rate': [0.1, 0.5],\n",
    "                  'n_estimators': [500]}\n",
    "    #model = model_selection.GridSearchCV(xgb.XGBClassifier(n_jobs=4), parameters, cv=3).fit(x, y)\n",
    "    model = xgb.XGBClassifier(max_depth=3, learning_rate=0.5, n_estimators=500, n_jobs=4, cv=3).fit(x, y)\n",
    "    print('Score', model.score(x, y))  \n",
    "    #print(model.best_params_)\n",
    "    \n",
    "    # predict missing target values \n",
    "    isna = df[label].isna()\n",
    "    x_predict = df[isna].loc[:, features]\n",
    "    target = label + '_'\n",
    "    df[target] = df[label]\n",
    "    df.loc[isna, target] = model.predict(x_predict)\n",
    "    df[target] = df[target].astype('int64')\n",
    "    return value_counts(df[target])\n",
    "\n",
    "infer_cat(data, ['Pclass', 'SibSp', 'Parch', 'title_cat', 'Fare_', 'Age_'], 'embarked_cat')"
   ]
  },
  {
   "cell_type": "markdown",
   "metadata": {},
   "source": [
    "## Finally predict Survived"
   ]
  },
  {
   "cell_type": "code",
   "execution_count": null,
   "metadata": {},
   "outputs": [],
   "source": [
    "infer_cat(data, ['Pclass', 'SibSp', 'Parch', 'title_cat', 'sex_cat', 'Fare_', 'Age_', 'embarked_cat'], 'Survived')"
   ]
  },
  {
   "cell_type": "code",
   "execution_count": null,
   "metadata": {},
   "outputs": [],
   "source": [
    "na_mask = data['Survived'].isna()\n",
    "# create a Kaggle submission\n",
    "sub = pd.DataFrame({'PassengerId': test['PassengerId'], 'Survived': data[na_mask].loc[:, 'Survived_']})\n",
    "sub.to_csv('submission.csv', index=False)"
   ]
  },
  {
   "cell_type": "markdown",
   "metadata": {},
   "source": [
    "## Thanks!!!"
   ]
  }
 ],
 "metadata": {
  "kernelspec": {
   "display_name": "Python 3",
   "language": "python",
   "name": "python3"
  },
  "language_info": {
   "codemirror_mode": {
    "name": "ipython",
    "version": 3
   },
   "file_extension": ".py",
   "mimetype": "text/x-python",
   "name": "python",
   "nbconvert_exporter": "python",
   "pygments_lexer": "ipython3",
   "version": "3.7.3"
  }
 },
 "nbformat": 4,
 "nbformat_minor": 2
}
