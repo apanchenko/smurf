{
 "cells": [
  {
   "cell_type": "markdown",
   "metadata": {},
   "source": [
    "---\n",
    "\n",
    "03/2019 <p style=\"text-align: right\">Anton Panchenko</p>\n",
    "\n",
    "\n",
    "![Titanic](https://cdn-static.denofgeek.com/sites/denofgeek/files/styles/main_wide/public/2015/10/raise-main.jpg?itok=QBxamb0z)"
   ]
  },
  {
   "cell_type": "code",
   "execution_count": null,
   "metadata": {},
   "outputs": [],
   "source": [
    "import os\n",
    "import re\n",
    "import numpy as np\n",
    "import pandas as pd\n",
    "from sklearn.preprocessing import LabelEncoder\n",
    "from sklearn.model_selection import train_test_split\n",
    "from sklearn import linear_model\n",
    "from sklearn import metrics\n",
    "\n",
    "os.listdir(\"../input\")"
   ]
  },
  {
   "cell_type": "markdown",
   "metadata": {},
   "source": [
    "## Introduction\n",
    "\n",
    "Load and merge datasets, meet data"
   ]
  },
  {
   "cell_type": "code",
   "execution_count": null,
   "metadata": {
    "scrolled": true
   },
   "outputs": [],
   "source": [
    "train = pd.read_csv('../input/train.csv')\n",
    "test = pd.read_csv('../input/test.csv')\n",
    "data = train.append(test, sort=False)\n",
    "data.sample(3)"
   ]
  },
  {
   "cell_type": "markdown",
   "metadata": {},
   "source": [
    "Look at types and incomplete features"
   ]
  },
  {
   "cell_type": "code",
   "execution_count": null,
   "metadata": {},
   "outputs": [],
   "source": [
    "def count(df:pd.DataFrame):\n",
    "    stat = pd.DataFrame([df.dtypes, df.count()], index=['dtypes', 'count'])\n",
    "    return stat.sort_values(by=['count'], axis=1, ascending=False)\n",
    "\n",
    "count(data)"
   ]
  },
  {
   "cell_type": "markdown",
   "metadata": {},
   "source": [
    "It seems we have 1309 objects. Incomplete features are:\n",
    "- Fare\n",
    "- Embarked\n",
    "- Age\n",
    "- Cabin"
   ]
  },
  {
   "cell_type": "markdown",
   "metadata": {},
   "source": [
    "## Create FamilySize and Alone features"
   ]
  },
  {
   "cell_type": "code",
   "execution_count": null,
   "metadata": {},
   "outputs": [],
   "source": [
    "data['FamilySize'] = data['SibSp'] + data['Parch'] + 1\n",
    "\n",
    "data['Alone'] = 0\n",
    "data.loc[data['FamilySize'] == 1, 'Alone'] = 1\n",
    "\n",
    "def value_counts(feature:pd.Series):\n",
    "    df = pd.DataFrame([feature.value_counts()], index=[feature.name + ' counts'])\n",
    "    df['nans'] = feature.isna().sum()\n",
    "    return df\n",
    "\n",
    "value_counts(data['Alone'])"
   ]
  },
  {
   "cell_type": "markdown",
   "metadata": {},
   "source": [
    "## Encode Sex"
   ]
  },
  {
   "cell_type": "code",
   "execution_count": null,
   "metadata": {},
   "outputs": [],
   "source": [
    "data['Sex'] = LabelEncoder().fit_transform(data['Sex'])\n",
    "\n",
    "value_counts(data['Sex'])"
   ]
  },
  {
   "cell_type": "markdown",
   "metadata": {},
   "source": [
    "## Extract Title from Name"
   ]
  },
  {
   "cell_type": "code",
   "execution_count": null,
   "metadata": {},
   "outputs": [],
   "source": [
    "data['Title'] = data['Name'].str.extract(r', (.*)\\.', expand=False)\n",
    "\n",
    "value_counts(data['Title'])"
   ]
  },
  {
   "cell_type": "markdown",
   "metadata": {},
   "source": [
    "See [english honorifics](https://en.wikipedia.org/wiki/English_honorifics) for reference.\n",
    "\n",
    "* TODO: fix regexp for `Mrs. Martin (Elizabeth L` and `the Countess`"
   ]
  },
  {
   "cell_type": "code",
   "execution_count": null,
   "metadata": {},
   "outputs": [],
   "source": [
    "data['Title'].replace(['Mlle', 'Ms'], 'Miss', inplace=True)\n",
    "data['Title'].replace(['Mme', 'Lady', 'Countess', 'Dona', 'Mrs. Martin (Elizabeth L', 'the Countess'], 'Mrs', inplace=True)\n",
    "data['Title'].replace(['Capt', 'Col', 'Don', 'Dr', 'Major', 'Rev', 'Sir', 'Jonkheer'], 'Mr', inplace=True)\n",
    "data['Title'] = LabelEncoder().fit_transform(data['Title'])\n",
    "value_counts(data['Title'])"
   ]
  },
  {
   "cell_type": "markdown",
   "metadata": {},
   "source": [
    "## Fix Fare"
   ]
  },
  {
   "cell_type": "code",
   "execution_count": null,
   "metadata": {},
   "outputs": [],
   "source": [
    "def infer(df:pd.DataFrame, features:np.array, target:str):\n",
    "    train = df[df[target].notna()]\n",
    "    \n",
    "    # select training data and fit regressor\n",
    "    x = train.loc[:, features]\n",
    "    y = train.loc[:, target]\n",
    "    reg = linear_model.LinearRegression().fit(x, y)\n",
    "    print('     score', reg.score(x, y))\n",
    "    \n",
    "    pred = reg.predict(x)\n",
    "    print('       mae', metrics.mean_absolute_error(y, pred))\n",
    "    \n",
    "    # check prediction is better than mean\n",
    "    print('  mean mae', metrics.mean_absolute_error(y, np.full((train.shape[0]), y.mean())))\n",
    "    \n",
    "    # check prediction is better than median\n",
    "    print('median mae', metrics.mean_absolute_error(y, np.full((train.shape[0]), y.median())))\n",
    "    \n",
    "    # predict missing target values\n",
    "    na_mask = df[target].isna()\n",
    "    predict = df[na_mask]\n",
    "    x_predict = predict.loc[:, features]\n",
    "    y_predict = reg.predict(x_predict)\n",
    "\n",
    "    # create new feature\n",
    "    df[target + '_'] = df[target]\n",
    "    df.loc[na_mask, target + '_'] = y_predict\n",
    "    \n",
    "infer(data, ['Pclass', 'SibSp', 'Title'], 'Fare')\n",
    "# Sex and Parch - increase mae\n",
    "\n",
    "count(data)"
   ]
  },
  {
   "cell_type": "markdown",
   "metadata": {},
   "source": [
    "## Fix Age"
   ]
  },
  {
   "cell_type": "code",
   "execution_count": null,
   "metadata": {},
   "outputs": [],
   "source": [
    "infer(data, ['Pclass', 'FamilySize', 'Title', 'Fare_'], 'Age')\n",
    "# Sex\n",
    "\n",
    "count(data)"
   ]
  },
  {
   "cell_type": "markdown",
   "metadata": {},
   "source": [
    "## Encode and fix Embarked"
   ]
  },
  {
   "cell_type": "code",
   "execution_count": null,
   "metadata": {
    "scrolled": true
   },
   "outputs": [],
   "source": [
    "def encode_labels(df:pd.DataFrame, target: str):\n",
    "    notna = df[target].notna()\n",
    "    y = df[notna].loc[:, target]\n",
    "    df.loc[notna, target] = LabelEncoder().fit_transform(y)\n",
    "\n",
    "encode_labels(data, 'Embarked')\n",
    "infer(data, ['Pclass', 'SibSp', 'Parch', 'Title', 'Fare_', 'Age_'], 'Embarked')\n",
    "\n",
    "value_counts(data['Embarked_'])"
   ]
  },
  {
   "cell_type": "markdown",
   "metadata": {},
   "source": [
    "## Finally predict Survived"
   ]
  },
  {
   "cell_type": "code",
   "execution_count": null,
   "metadata": {},
   "outputs": [],
   "source": [
    "train = data[data['Survived'].notna()]\n",
    "test = data[data['Survived'].isna()]\n",
    "\n",
    "# prepare train for fitting\n",
    "# other features appears useless\n",
    "x = train.loc[:, ['Age_', 'Sex', 'Pclass', 'Fare_', 'FamilySize', 'Alone']]\n",
    "y = train.loc[:, 'Survived']\n",
    "XTrain, XValid, YTrain, YValid = train_test_split(x, y, test_size=0.2, random_state=40)\n",
    "\n",
    "# Fit logistic regression using scikit\n",
    "LR = linear_model.LogisticRegression(C=1000, solver='lbfgs', max_iter=1000)\n",
    "LR.fit(X=XTrain, y=YTrain)\n",
    "\n",
    "def accuracy(Y: np.array, yPred: np.array) -> float:\n",
    "  return np.sum(yPred==Y) / len(Y)\n",
    "\n",
    "# Use model to predict on training and validation sets\n",
    "print('     Train accuracy', accuracy(YTrain, LR.predict(XTrain)))\n",
    "print('Validation accuracy', accuracy(YValid, LR.predict(XValid)))"
   ]
  },
  {
   "cell_type": "markdown",
   "metadata": {},
   "source": [
    "## Save results"
   ]
  },
  {
   "cell_type": "code",
   "execution_count": null,
   "metadata": {},
   "outputs": [],
   "source": [
    "# Predict for test set\n",
    "# Create a Kaggle submission\n",
    "XTest = test.loc[:, features]\n",
    "YTest = LR.predict(XTest)\n",
    "#data['Survivd'] = data['Survived'].astype('int64')\n",
    "sub = pd.DataFrame({'PassengerId': test['PassengerId'], 'Survived': YTest.astype('int64')})\n",
    "sub.to_csv('submission.csv', index=False)"
   ]
  },
  {
   "cell_type": "markdown",
   "metadata": {},
   "source": [
    "## Thanks!!!"
   ]
  }
 ],
 "metadata": {
  "kernelspec": {
   "display_name": "Python 3",
   "language": "python",
   "name": "python3"
  },
  "language_info": {
   "codemirror_mode": {
    "name": "ipython",
    "version": 3
   },
   "file_extension": ".py",
   "mimetype": "text/x-python",
   "name": "python",
   "nbconvert_exporter": "python",
   "pygments_lexer": "ipython3",
   "version": "3.7.2"
  }
 },
 "nbformat": 4,
 "nbformat_minor": 2
}
